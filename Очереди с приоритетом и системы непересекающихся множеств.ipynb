{
 "cells": [
  {
   "cell_type": "raw",
   "metadata": {},
   "source": [
    "Формат входа. \n",
    "Первая строка содержит число n. Следующая строка\n",
    "задаёт массив чисел A[0], . . . , A[n − 1].\n",
    "Формат выхода. \n",
    "Первая строка выхода должна содержать число об-\n",
    "менов m, которое должно удовлетворять неравенству 0 ≤ m ≤4n. \n",
    "Каждая из последующих m строк должна задавать обмен двух"
   ]
  },
  {
   "cell_type": "code",
   "execution_count": null,
   "metadata": {
    "collapsed": true
   },
   "outputs": [],
   "source": [
    "import sys\n",
    "\n",
    "\n",
    "class heap:\n",
    "    def __init__(self):\n",
    "        self.a = [None]\n",
    "        self.swaps = []\n",
    "\n",
    "    def siftdown(self, i):\n",
    "        while 2 * i <= len(self.a) - 1:\n",
    "            j = i\n",
    "            if self.a[2 * i] < self.a[j]:\n",
    "                j = 2 * i\n",
    "            if 2 * i + 1 <= len(self.a) - 1 and self.a[2 * i + 1] < self.a[j]:\n",
    "                j = 2 * i + 1\n",
    "            if j == i:\n",
    "                break\n",
    "            self.swaps.append((i - 1, j - 1))\n",
    "            self.a[i], self.a[j] = self.a[j], self.a[i]\n",
    "            i = j\n",
    "\n",
    "    def build_heap(self, A, n):\n",
    "        self.a.extend(A)\n",
    "        for i in range(n // 2, 0, -1):\n",
    "            self.siftdown(i)\n",
    "        return self.swaps\n",
    "\n",
    "\n",
    "def main():\n",
    "    reader = (map(int, line.split()) for line in sys.stdin)\n",
    "    [n], A = next(reader), list(next(reader))\n",
    "    h = heap()\n",
    "    swaps = h.build_heap(A, n)\n",
    "    print(len(swaps))\n",
    "    for i, j in swaps:\n",
    "        print(i, j)\n",
    "\n",
    "\n",
    "if __name__ == '__main__':\n",
    "    main()"
   ]
  },
  {
   "cell_type": "raw",
   "metadata": {},
   "source": [
    "Формат входа. \n",
    "Первая строка входа содержит числа n и m. Вторая\n",
    "содержит числа t0, . . . , tm−1, где ti — время, необходимое \n",
    "на обработку i-й задачи. Считаем, что и процессоры, и задачи \n",
    "нумеруются с нуля.\n",
    "Формат выхода. \n",
    "Выход должен содержать ровно m строк: i-я (считая с нуля) строка \n",
    "должна содержать номер процесса, который получит i-ю задачу на \n",
    "обработку, и время, когда это произойдёт.\n"
   ]
  },
  {
   "cell_type": "code",
   "execution_count": null,
   "metadata": {
    "collapsed": true
   },
   "outputs": [],
   "source": []
  }
 ],
 "metadata": {
  "kernelspec": {
   "display_name": "Python 3",
   "language": "python",
   "name": "python3"
  },
  "language_info": {
   "codemirror_mode": {
    "name": "ipython",
    "version": 3
   },
   "file_extension": ".py",
   "mimetype": "text/x-python",
   "name": "python",
   "nbconvert_exporter": "python",
   "pygments_lexer": "ipython3",
   "version": "3.6.4"
  }
 },
 "nbformat": 4,
 "nbformat_minor": 1
}
